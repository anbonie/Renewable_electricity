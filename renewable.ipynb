{
 "cells": [
  {
   "cell_type": "code",
   "execution_count": 1,
   "metadata": {},
   "outputs": [],
   "source": [
    "import pandas as pd\n",
    "import plotly.graph_objects as go\n",
    "import plotly.express as px\n",
    "import geojson\n",
    "import numpy as np\n",
    "import json"
   ]
  },
  {
   "cell_type": "code",
   "execution_count": 2,
   "metadata": {},
   "outputs": [
    {
     "data": {
      "text/html": [
       "<div>\n",
       "<style scoped>\n",
       "    .dataframe tbody tr th:only-of-type {\n",
       "        vertical-align: middle;\n",
       "    }\n",
       "\n",
       "    .dataframe tbody tr th {\n",
       "        vertical-align: top;\n",
       "    }\n",
       "\n",
       "    .dataframe thead th {\n",
       "        text-align: right;\n",
       "    }\n",
       "</style>\n",
       "<table border=\"1\" class=\"dataframe\">\n",
       "  <thead>\n",
       "    <tr style=\"text-align: right;\">\n",
       "      <th></th>\n",
       "      <th>Unnamed: 0</th>\n",
       "      <th>all renewables</th>\n",
       "      <th>Unnamed: 2</th>\n",
       "      <th>excluding hydropower</th>\n",
       "      <th>all renewables 2015</th>\n",
       "      <th>Unnamed: 5</th>\n",
       "      <th>% difference 2015 vs 2020</th>\n",
       "      <th>all electricity generation</th>\n",
       "      <th>all renewables.1</th>\n",
       "      <th>non-hydro renewables</th>\n",
       "      <th>story</th>\n",
       "      <th>story source</th>\n",
       "    </tr>\n",
       "  </thead>\n",
       "  <tbody>\n",
       "    <tr>\n",
       "      <th>0</th>\n",
       "      <td>NaN</td>\n",
       "      <td>2020 or latest year</td>\n",
       "      <td>NaN</td>\n",
       "      <td>NaN</td>\n",
       "      <td>NaN</td>\n",
       "      <td>NaN</td>\n",
       "      <td>NaN</td>\n",
       "      <td>GWh</td>\n",
       "      <td>GWh</td>\n",
       "      <td>GWh</td>\n",
       "      <td>NaN</td>\n",
       "      <td>https://www.eia.gov/international/data/world/e...</td>\n",
       "    </tr>\n",
       "    <tr>\n",
       "      <th>1</th>\n",
       "      <td>Afghanistan</td>\n",
       "      <td>82.8%</td>\n",
       "      <td>82.8%</td>\n",
       "      <td>3.8%</td>\n",
       "      <td>86.1%</td>\n",
       "      <td>NaN</td>\n",
       "      <td>-3.29%</td>\n",
       "      <td>1.1</td>\n",
       "      <td>0.9</td>\n",
       "      <td>0.04</td>\n",
       "      <td>NaN</td>\n",
       "      <td>NaN</td>\n",
       "    </tr>\n",
       "    <tr>\n",
       "      <th>2</th>\n",
       "      <td>Albania</td>\n",
       "      <td>100.0%</td>\n",
       "      <td>100.0%</td>\n",
       "      <td>0.4%</td>\n",
       "      <td>100.0%</td>\n",
       "      <td>NaN</td>\n",
       "      <td>0.00%</td>\n",
       "      <td>5.2</td>\n",
       "      <td>5.2</td>\n",
       "      <td>0.02</td>\n",
       "      <td>NaN</td>\n",
       "      <td>NaN</td>\n",
       "    </tr>\n",
       "    <tr>\n",
       "      <th>3</th>\n",
       "      <td>Algeria</td>\n",
       "      <td>1.1%</td>\n",
       "      <td>1.1%</td>\n",
       "      <td>0.9%</td>\n",
       "      <td>0.3%</td>\n",
       "      <td>NaN</td>\n",
       "      <td>0.79%</td>\n",
       "      <td>76.7</td>\n",
       "      <td>0.8</td>\n",
       "      <td>0.69</td>\n",
       "      <td>NaN</td>\n",
       "      <td>NaN</td>\n",
       "    </tr>\n",
       "    <tr>\n",
       "      <th>4</th>\n",
       "      <td>American Samoa</td>\n",
       "      <td>0.0%</td>\n",
       "      <td>0.0%</td>\n",
       "      <td>0.0%</td>\n",
       "      <td>NaN</td>\n",
       "      <td>NaN</td>\n",
       "      <td>NaN</td>\n",
       "      <td>0.2</td>\n",
       "      <td>0.0</td>\n",
       "      <td>0.00</td>\n",
       "      <td>NaN</td>\n",
       "      <td>NaN</td>\n",
       "    </tr>\n",
       "  </tbody>\n",
       "</table>\n",
       "</div>"
      ],
      "text/plain": [
       "       Unnamed: 0       all renewables Unnamed: 2 excluding hydropower  \\\n",
       "0             NaN  2020 or latest year        NaN                  NaN   \n",
       "1     Afghanistan                82.8%      82.8%                 3.8%   \n",
       "2         Albania               100.0%     100.0%                 0.4%   \n",
       "3         Algeria                 1.1%       1.1%                 0.9%   \n",
       "4  American Samoa                 0.0%       0.0%                 0.0%   \n",
       "\n",
       "  all renewables 2015  Unnamed: 5 % difference 2015 vs 2020  \\\n",
       "0                 NaN         NaN                       NaN   \n",
       "1               86.1%         NaN                    -3.29%   \n",
       "2              100.0%         NaN                     0.00%   \n",
       "3                0.3%         NaN                     0.79%   \n",
       "4                 NaN         NaN                       NaN   \n",
       "\n",
       "  all electricity generation all renewables.1 non-hydro renewables story  \\\n",
       "0                        GWh              GWh                  GWh   NaN   \n",
       "1                        1.1              0.9                 0.04   NaN   \n",
       "2                        5.2              5.2                 0.02   NaN   \n",
       "3                       76.7              0.8                 0.69   NaN   \n",
       "4                        0.2              0.0                 0.00   NaN   \n",
       "\n",
       "                                        story source  \n",
       "0  https://www.eia.gov/international/data/world/e...  \n",
       "1                                                NaN  \n",
       "2                                                NaN  \n",
       "3                                                NaN  \n",
       "4                                                NaN  "
      ]
     },
     "execution_count": 2,
     "metadata": {},
     "output_type": "execute_result"
    }
   ],
   "source": [
    "electricity_df = pd.read_csv('Electricity.csv', sep = ';')\n",
    "electricity_df.head()"
   ]
  },
  {
   "cell_type": "code",
   "execution_count": 3,
   "metadata": {},
   "outputs": [],
   "source": [
    "renewables_df = electricity_df[['Unnamed: 0', 'all renewables', 'excluding hydropower']]\n",
    "renewables_df = renewables_df.drop(labels=0, axis=0)\n",
    "\n",
    "renewables_df = renewables_df.rename(columns={'Unnamed: 0': 'country'})\n",
    "renewables_df = renewables_df[renewables_df['country'].notna()]\n",
    "\n",
    "renewables_df['all renewables'] = renewables_df['all renewables'].str.replace('%', '')\n",
    "renewables_df['all renewables'] = renewables_df['all renewables'].astype(float)\n",
    "\n",
    "renewables_df['excluding hydropower'] = renewables_df['excluding hydropower'].str.replace('%', '')\n",
    "renewables_df['excluding hydropower'] = renewables_df['excluding hydropower'].astype(float)\n",
    "\n",
    "# renewables_df.head()"
   ]
  },
  {
   "cell_type": "code",
   "execution_count": 4,
   "metadata": {},
   "outputs": [
    {
     "data": {
      "text/html": [
       "<div>\n",
       "<style scoped>\n",
       "    .dataframe tbody tr th:only-of-type {\n",
       "        vertical-align: middle;\n",
       "    }\n",
       "\n",
       "    .dataframe tbody tr th {\n",
       "        vertical-align: top;\n",
       "    }\n",
       "\n",
       "    .dataframe thead th {\n",
       "        text-align: right;\n",
       "    }\n",
       "</style>\n",
       "<table border=\"1\" class=\"dataframe\">\n",
       "  <thead>\n",
       "    <tr style=\"text-align: right;\">\n",
       "      <th></th>\n",
       "      <th>country</th>\n",
       "      <th>all renewables</th>\n",
       "      <th>excluding hydropower</th>\n",
       "    </tr>\n",
       "  </thead>\n",
       "  <tbody>\n",
       "    <tr>\n",
       "      <th>111</th>\n",
       "      <td>Libya</td>\n",
       "      <td>0.0</td>\n",
       "      <td>0.0</td>\n",
       "    </tr>\n",
       "  </tbody>\n",
       "</table>\n",
       "</div>"
      ],
      "text/plain": [
       "    country  all renewables  excluding hydropower\n",
       "111   Libya             0.0                   0.0"
      ]
     },
     "execution_count": 4,
     "metadata": {},
     "output_type": "execute_result"
    }
   ],
   "source": [
    "renewables_df.iloc[[110]]"
   ]
  },
  {
   "cell_type": "code",
   "execution_count": 5,
   "metadata": {},
   "outputs": [],
   "source": [
    "world = json.load(open('countries.geojson', 'r'))\n",
    "# world['features'][1]"
   ]
  },
  {
   "cell_type": "code",
   "execution_count": 8,
   "metadata": {},
   "outputs": [],
   "source": [
    "conv_dict = {'Antigua and Barbuda': 'Antigua & Barbuda',\n",
    "    'Bosnia and Herzegovina': 'Bosnia & Herzegovina',\n",
    "    'Ivory Coast': 'Côte d’Ivoire',\n",
    "    'Democratic Republic of the Congo' : 'Congo Kinshasa',\n",
    "    'Republic of Congo' : 'Congo Brazzaville',\n",
    "    'Cape Verde' : 'Cabo Verde',\n",
    "    'Guinea Bissau' : 'Guinea-Bissau',\n",
    "    'Hong Kong S.A.R.' : 'Hong Kong',\n",
    "    'Macedonia' : 'North Macedonia',\n",
    "    'Macao S.A.R' : 'Macau',\n",
    "    'Mauritania' : 'Western Sahara',\n",
    "    'Republic of Serbia' : 'Serbia',\n",
    "    'Sao Tome and Principe' : 'Sao Tome & Principe',\n",
    "    'Swaziland' : 'Eswatini',\n",
    "    'East Timor': 'Timor-Leste',\n",
    "    'United Republic of Tanzania': 'Tanzania',\n",
    "    'United States of America' : 'United States',\n",
    "    'Saint Vincent and the Grenadines': 'Saint Vincent/Grenadines',\n",
    "    'United States Virgin Islands' : 'U.S. Virgin Islands',\n",
    "    'Chad' : 'Libya'\n",
    "    \n",
    "    }\n",
    "# conv_dict = {'Anguilla', 'Aland', 'Andorra', 'Ashmore and Cartier Islands', 'French Southern and Antarctic Lands', 'Antigua and Barbuda', 'Bosnia and Herzegovina', 'Bajo Nuevo Bank (Petrel Is.)', 'Saint Barthelemy', 'Ivory Coast', 'Clipperton Island', 'Cyprus No Mans Area', 'Democratic Republic of the Congo', 'Republic of Congo', 'Cape Verde', 'Coral Sea Islands', 'CuraĂ§ao', 'Northern Cyprus', 'Dhekelia Sovereign Base Area', 'Federated States of Micronesia', 'Guernsey', 'Guinea Bissau', 'Hong Kong S.A.R.', 'Heard Island and McDonald Islands', 'Isle of Man', 'Indian Ocean Territories', 'British Indian Ocean Territory', 'Jersey', 'Baykonur Cosmodrome', 'Siachen Glacier', 'Kosovo', 'Liechtenstein', 'Luxembourg', 'Macao S.A.R', 'Saint Martin', 'Monaco', 'Marshall Islands', 'Macedonia', 'Northern Mariana Islands', 'Mauritania', 'Norfolk Island', 'Pitcairn Islands', 'Spratly Islands', 'Palau', 'Palestine', 'Western Sahara', 'Scarborough Reef', 'Serranilla Bank', 'South Georgia and South Sandwich Islands', 'San Marino', 'Somaliland', 'Republic of Serbia', 'Sao Tome and Principe', 'Swaziland', 'Sint Maarten', 'Chad', 'East Timor', 'Tuvalu', 'United Republic of Tanzania', 'United States Minor Outlying Islands', 'United States of America', 'US Naval Base Guantanamo Bay', 'Vatican', 'Saint Vincent and the Grenadines', 'United States Virgin Islands', 'Wallis and Futuna', 'Akrotiri Sovereign Base Area'}"
   ]
  },
  {
   "cell_type": "code",
   "execution_count": 9,
   "metadata": {},
   "outputs": [
    {
     "name": "stdout",
     "output_type": "stream",
     "text": [
      "Countries found    : 207\n",
      "Countries not found: 48\n"
     ]
    }
   ],
   "source": [
    "# Instanciating necessary lists\n",
    "found = []\n",
    "missing = []\n",
    "countries_geo = []\n",
    "\n",
    "# For simpler acces, setting \"zone\" as index in a temporary dataFrame\n",
    "tmp = renewables_df.set_index('country')\n",
    "\n",
    "# Looping over the custom GeoJSON file\n",
    "for country in world['features']:\n",
    "    \n",
    "    # Country name detection\n",
    "    country_name = country['properties']['ADMIN']\n",
    "\n",
    "    # Eventual replacement with our transition dictionnary\n",
    "    country_name = conv_dict[country_name] if country_name in conv_dict.keys() else country_name\n",
    "    go_on = country_name in tmp.index\n",
    "    \n",
    "    # If country is in original dataset or transition dictionnary\n",
    "    if go_on:\n",
    "        \n",
    "        # Adding country to our \"Matched/found\" countries\n",
    "        found.append(country_name)\n",
    "        \n",
    "        # Getting information from both GeoJSON file and dataFrame\n",
    "        geometry = country['geometry']\n",
    "\n",
    "        # Adding 'id' information for further match between map and data \n",
    "        countries_geo.append({\n",
    "            'type': 'Feature',\n",
    "            'geometry': geometry,\n",
    "            'id':country_name\n",
    "        })\n",
    "        \n",
    "    # Else, adding the country to the missing countries\n",
    "    else:\n",
    "        missing.append(country_name)\n",
    "\n",
    "# Displaying metrics\n",
    "print(f'Countries found    : {len(found)}')\n",
    "print(f'Countries not found: {len(missing)}')\n",
    "geo_world_ok = {'type': 'FeatureCollection', 'features': countries_geo}\n"
   ]
  },
  {
   "cell_type": "code",
   "execution_count": 10,
   "metadata": {},
   "outputs": [],
   "source": [
    "spelled_countries = []\n",
    "spelled_countries = renewables_df['country'].tolist()\n",
    "\n",
    "# print(missing)\n",
    "# print(spelled_countries)\n",
    "# print(found)"
   ]
  },
  {
   "cell_type": "code",
   "execution_count": null,
   "metadata": {},
   "outputs": [],
   "source": []
  },
  {
   "cell_type": "code",
   "execution_count": 11,
   "metadata": {},
   "outputs": [
    {
     "name": "stderr",
     "output_type": "stream",
     "text": [
      "c:\\Users\\anaku\\AppData\\Local\\Programs\\Python\\Python39\\lib\\site-packages\\pandas\\core\\arraylike.py:364: RuntimeWarning: divide by zero encountered in log10\n",
      "  result = getattr(ufunc, method)(*inputs, **kwargs)\n"
     ]
    }
   ],
   "source": [
    "# Create the log count column\n",
    "renewables_df['renewables scale'] = np.log10(renewables_df['all renewables'])\n",
    "\n",
    "# Get the maximum value to cap displayed values\n",
    "max_log = renewables_df['renewables scale'].max()\n",
    "max_val = int(max_log) + 1\n",
    "\n",
    "renewables_df.head()\n",
    "\n",
    "# Prepare the range of the colorbar\n",
    "values = [i for i in range(max_val)]\n",
    "ticks = [10**i for i in values]"
   ]
  },
  {
   "cell_type": "code",
   "execution_count": 12,
   "metadata": {},
   "outputs": [],
   "source": [
    "# Create the log count column\n",
    "renewables_df['renewables no hydropower scale'] = np.log10(renewables_df['excluding hydropower'])\n",
    "\n",
    "# Get the maximum value to cap displayed values\n",
    "max_log = renewables_df['renewables no hydropower scale'].max()\n",
    "max_val = int(max_log) + 1\n",
    "\n",
    "renewables_df.head()\n",
    "\n",
    "# Prepare the range of the colorbar\n",
    "values = [0, 10, 20, 30, 40, 50, 60, 70, 80, 90, 100]\n",
    "ticks = [0, 10, 20, 30, 40, 50, 60, 70, 80, 90, 100]"
   ]
  },
  {
   "cell_type": "code",
   "execution_count": 13,
   "metadata": {},
   "outputs": [],
   "source": [
    "renewables_df['renewables discrete'] = np.round(renewables_df['all renewables'], decimals = -1)"
   ]
  },
  {
   "cell_type": "code",
   "execution_count": 14,
   "metadata": {},
   "outputs": [],
   "source": [
    "renewables_df['renewables discrete no hydropower'] = np.round(renewables_df['excluding hydropower'], decimals = -1)"
   ]
  },
  {
   "cell_type": "code",
   "execution_count": 16,
   "metadata": {},
   "outputs": [],
   "source": [
    "import plotly.io as pio\n",
    "pio.renderers.default = \"browser\""
   ]
  },
  {
   "cell_type": "code",
   "execution_count": 17,
   "metadata": {},
   "outputs": [],
   "source": [
    "colors = ['#de425b', '#ffffb1', '#488f31']"
   ]
  },
  {
   "cell_type": "code",
   "execution_count": 18,
   "metadata": {},
   "outputs": [],
   "source": [
    "# Create figure\n",
    "fig = px.choropleth_mapbox(\n",
    "    renewables_df,\n",
    "    geojson=geo_world_ok,\n",
    "    locations='country',\n",
    "    color=renewables_df['renewables discrete'],\n",
    "    color_continuous_scale=colors,\n",
    "    range_color=(0, 100),\n",
    "    hover_name='country',\n",
    "    hover_data={'renewables discrete': True, 'country': False, 'all renewables': True},\n",
    "    mapbox_style='carto-positron',\n",
    "    zoom=1.7,\n",
    "    center={'lat': 25, 'lon': 15},\n",
    "    opacity=0.75\n",
    ")\n",
    "\n",
    "# Define layout specificities\n",
    "fig.update_layout(\n",
    "    autosize=False,\n",
    "    width=2000,\n",
    "    height=1000,\n",
    "    margin=dict(\n",
    "        l=50,\n",
    "        r=50,\n",
    "        b=50,\n",
    "        t=50,\n",
    "        pad=4),\n",
    "    coloraxis_colorbar={\n",
    "        'title':'% of renewable energy including hydropower',\n",
    "        'tickvals':values,\n",
    "        'ticktext':ticks        \n",
    "    }\n",
    ")\n",
    "\n",
    "# Display figure\n",
    "fig.show()"
   ]
  },
  {
   "cell_type": "code",
   "execution_count": 19,
   "metadata": {},
   "outputs": [
    {
     "data": {
      "text/html": [
       "<div>\n",
       "<style scoped>\n",
       "    .dataframe tbody tr th:only-of-type {\n",
       "        vertical-align: middle;\n",
       "    }\n",
       "\n",
       "    .dataframe tbody tr th {\n",
       "        vertical-align: top;\n",
       "    }\n",
       "\n",
       "    .dataframe thead th {\n",
       "        text-align: right;\n",
       "    }\n",
       "</style>\n",
       "<table border=\"1\" class=\"dataframe\">\n",
       "  <thead>\n",
       "    <tr style=\"text-align: right;\">\n",
       "      <th></th>\n",
       "      <th>country</th>\n",
       "      <th>all renewables</th>\n",
       "      <th>excluding hydropower</th>\n",
       "      <th>renewables scale</th>\n",
       "      <th>renewables no hydropower scale</th>\n",
       "      <th>renewables discrete</th>\n",
       "      <th>renewables discrete no hydropower</th>\n",
       "    </tr>\n",
       "  </thead>\n",
       "  <tbody>\n",
       "    <tr>\n",
       "      <th>111</th>\n",
       "      <td>Libya</td>\n",
       "      <td>0.0</td>\n",
       "      <td>0.0</td>\n",
       "      <td>-inf</td>\n",
       "      <td>-inf</td>\n",
       "      <td>0.0</td>\n",
       "      <td>0.0</td>\n",
       "    </tr>\n",
       "  </tbody>\n",
       "</table>\n",
       "</div>"
      ],
      "text/plain": [
       "    country  all renewables  excluding hydropower  renewables scale  \\\n",
       "111   Libya             0.0                   0.0              -inf   \n",
       "\n",
       "     renewables no hydropower scale  renewables discrete  \\\n",
       "111                            -inf                  0.0   \n",
       "\n",
       "     renewables discrete no hydropower  \n",
       "111                                0.0  "
      ]
     },
     "execution_count": 19,
     "metadata": {},
     "output_type": "execute_result"
    }
   ],
   "source": [
    "renewables_df.iloc[[110]]"
   ]
  },
  {
   "cell_type": "code",
   "execution_count": 20,
   "metadata": {},
   "outputs": [],
   "source": [
    "# Create figure\n",
    "fig_no_hydropower = px.choropleth_mapbox(\n",
    "    renewables_df,\n",
    "    geojson=geo_world_ok,\n",
    "    locations='country',\n",
    "    color=renewables_df['renewables discrete no hydropower'],\n",
    "    color_continuous_scale=colors,\n",
    "    range_color=(0, 100),\n",
    "    hover_name='country',\n",
    "    hover_data={'renewables discrete no hydropower': False, 'country': False, 'excluding hydropower': True},\n",
    "    mapbox_style='carto-positron',\n",
    "    zoom=1.7,\n",
    "    center={'lat': 25, 'lon': 15},\n",
    "    opacity=0.75\n",
    ")\n",
    "\n",
    "# Define layout specificities\n",
    "fig_no_hydropower.update_layout(\n",
    "    autosize=False,\n",
    "    width=2000,\n",
    "    height=1000,\n",
    "    margin=dict(\n",
    "        l=50,\n",
    "        r=50,\n",
    "        b=50,\n",
    "        t=50,\n",
    "        pad=4),\n",
    "    coloraxis_colorbar={\n",
    "        'title':'% of renewable energy excluding hydropower',\n",
    "        'tickvals':values,\n",
    "        'ticktext':ticks        \n",
    "    }\n",
    ")\n",
    "\n",
    "# Display figure\n",
    "fig_no_hydropower.show()"
   ]
  },
  {
   "cell_type": "code",
   "execution_count": 21,
   "metadata": {},
   "outputs": [],
   "source": [
    "import dash\n",
    "from dash import dcc\n",
    "from dash import html\n",
    "from dash import Dash, dcc, html, Input, Output"
   ]
  },
  {
   "cell_type": "code",
   "execution_count": 22,
   "metadata": {},
   "outputs": [
    {
     "name": "stdout",
     "output_type": "stream",
     "text": [
      "Dash is running on http://127.0.0.1:8050/\n",
      "\n",
      " * Serving Flask app '__main__'\n",
      " * Debug mode: on\n"
     ]
    }
   ],
   "source": [
    "app = dash.Dash()\n",
    "app.layout = html.Div([\n",
    "    dcc.Graph(figure=fig)\n",
    "])\n",
    "\n",
    "\n",
    "app.layout = html.Div([\n",
    "    html.H4('Renewable electricity by country'),\n",
    "    html.P(\"Include or exclude hydropower:\"),\n",
    "    dcc.RadioItems(\n",
    "        id='selection',\n",
    "        options=[\"Renewables including hydropower\", \"Renewables excluding hydropower\"],\n",
    "        value='Renewables including hydropower',\n",
    "    ),\n",
    "    dcc.Loading(dcc.Graph(id=\"graph\"), type=\"cube\")\n",
    "])\n",
    "\n",
    "\n",
    "@app.callback(\n",
    "    Output(\"graph\", \"figure\"), \n",
    "    Input(\"selection\", \"value\"))\n",
    "    \n",
    "def display_animated_graph(selection):\n",
    "    renewables_df = px.data.gapminder() # replace with your own data source\n",
    "    animations = {\n",
    "        'Renewables including hydropower': fig,\n",
    "        'Renewables excluding hydropower': fig_no_hydropower,\n",
    "    }\n",
    "    return animations[selection]\n",
    "\n",
    "\n",
    "app.run_server(debug=True, use_reloader=False)"
   ]
  }
 ],
 "metadata": {
  "kernelspec": {
   "display_name": "Python 3",
   "language": "python",
   "name": "python3"
  },
  "language_info": {
   "codemirror_mode": {
    "name": "ipython",
    "version": 3
   },
   "file_extension": ".py",
   "mimetype": "text/x-python",
   "name": "python",
   "nbconvert_exporter": "python",
   "pygments_lexer": "ipython3",
   "version": "3.9.5"
  },
  "orig_nbformat": 4,
  "vscode": {
   "interpreter": {
    "hash": "a7d71e52161623ad8c9ace7adf76a980e11eb3f1d45ab949cdcaced65022b5c6"
   }
  }
 },
 "nbformat": 4,
 "nbformat_minor": 2
}
